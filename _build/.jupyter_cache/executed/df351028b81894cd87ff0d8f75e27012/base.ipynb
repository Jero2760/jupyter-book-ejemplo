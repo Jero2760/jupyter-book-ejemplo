{
 "cells": [
  {
   "cell_type": "code",
   "execution_count": 1,
   "id": "secure-imagination",
   "metadata": {},
   "outputs": [
    {
     "name": "stdout",
     "output_type": "stream",
     "text": [
      "Este es un texto en código Python\n"
     ]
    }
   ],
   "source": [
    "a = \"Este es un texto\"\n",
    "b = \"en código Python\"\n",
    "print(f\"{a} {b}\")"
   ]
  }
 ],
 "metadata": {
  "jupytext": {
   "cell_metadata_filter": "-all",
   "formats": "md:myst",
   "text_representation": {
    "extension": ".md",
    "format_name": "myst",
    "format_version": 0.12,
    "jupytext_version": "1.6.0"
   }
  },
  "kernelspec": {
   "display_name": "Python 3",
   "language": "python",
   "name": "python3"
  },
  "language_info": {
   "codemirror_mode": {
    "name": "ipython",
    "version": 3
   },
   "file_extension": ".py",
   "mimetype": "text/x-python",
   "name": "python",
   "nbconvert_exporter": "python",
   "pygments_lexer": "ipython3",
   "version": "3.7.9"
  },
  "source_map": [
   14,
   62,
   77,
   97,
   138,
   142
  ]
 },
 "nbformat": 4,
 "nbformat_minor": 5
}