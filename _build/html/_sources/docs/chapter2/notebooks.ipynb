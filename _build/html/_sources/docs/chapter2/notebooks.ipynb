{
 "cells": [
  {
   "cell_type": "markdown",
   "metadata": {},
   "source": [
    "# Jupyter Notebooks (.ipynb)\n",
    "\n",
    "Los ficheros Jupyter Notebooks (.ipynb) también pueden añadirse a nuestro libro, \n",
    "permitiendo la visualización y ejecución de bloques de código y sus outputs. \n",
    "\n",
    "## Celdas markdown\n",
    "\n",
    "Permiten insertar imágenes, video, código HTML, etc. Ejemplo, esta imagen:\n",
    "\n",
    "![](https://myst-parser.readthedocs.io/en/latest/_static/logo.png)\n",
    "\n",
    "También podemos insertar $add_{math}$ y\n",
    "\n",
    "$$\n",
    "math^{blocks}\n",
    "$$\n",
    "\n",
    "o también\n",
    "\n",
    "$$\n",
    "\\begin{aligned}\n",
    "\\mbox{mean} la_{tex} \\\\ \\\\\n",
    "math blocks\n",
    "\\end{aligned}\n",
    "$$\n",
    "\n",
    "## Celdas MyST markdown\n",
    "\n",
    "Las celdas MyST markdown funcionan en Jupyter Notebooks de modo similar. Para más información sobre MyST markdown, ver\n",
    "[the MyST guide in Jupyter Book](https://jupyterbook.org/content/myst.html),\n",
    "y [the MyST markdown documentation](https://myst-parser.readthedocs.io/en/latest/).\n",
    "\n",
    "## Celdas de código y outputs\n",
    "\n",
    "Jupyter Book permite la visualización de los bloques de código y outputs de los ficheros .ipynb.\n",
    "Por ejemplo, esta es una muestra de código que utiliza Matplotlib:"
   ]
  },
  {
   "cell_type": "code",
   "execution_count": null,
   "metadata": {},
   "outputs": [],
   "source": [
    "from matplotlib import rcParams, cycler\n",
    "import matplotlib.pyplot as plt\n",
    "import numpy as np\n",
    "plt.ion()"
   ]
  },
  {
   "cell_type": "code",
   "execution_count": null,
   "metadata": {},
   "outputs": [],
   "source": [
    "# Fixing random state for reproducibility\n",
    "np.random.seed(19680801)\n",
    "\n",
    "N = 10\n",
    "data = [np.logspace(0, 1, 100) + np.random.randn(100) + ii for ii in range(N)]\n",
    "data = np.array(data).T\n",
    "cmap = plt.cm.coolwarm\n",
    "rcParams['axes.prop_cycle'] = cycler(color=cmap(np.linspace(0, 1, N)))\n",
    "\n",
    "\n",
    "from matplotlib.lines import Line2D\n",
    "custom_lines = [Line2D([0], [0], color=cmap(0.), lw=4),\n",
    "                Line2D([0], [0], color=cmap(.5), lw=4),\n",
    "                Line2D([0], [0], color=cmap(1.), lw=4)]\n",
    "\n",
    "fig, ax = plt.subplots(figsize=(10, 5))\n",
    "lines = ax.plot(data)\n",
    "ax.legend(custom_lines, ['Cold', 'Medium', 'Hot']);"
   ]
  },
  {
   "cell_type": "markdown",
   "metadata": {},
   "source": [
    "Las posibilidades son muy diversas e incluyen el uso de outputs que permiten la interactividad en la lectura del libro\n",
    "Para más información, ver [the Jupyter Book documentation](https://jupyterbook.org)"
   ]
  }
 ],
 "metadata": {
  "kernelspec": {
   "display_name": "Python 3",
   "language": "python",
   "name": "python3"
  },
  "language_info": {
   "codemirror_mode": {
    "name": "ipython",
    "version": 3
   },
   "file_extension": ".py",
   "mimetype": "text/x-python",
   "name": "python",
   "nbconvert_exporter": "python",
   "pygments_lexer": "ipython3",
   "version": "3.7.0"
  },
  "widgets": {
   "application/vnd.jupyter.widget-state+json": {
    "state": {},
    "version_major": 2,
    "version_minor": 0
   }
  }
 },
 "nbformat": 4,
 "nbformat_minor": 4
}
